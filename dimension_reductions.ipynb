{
 "cells": [
  {
   "cell_type": "code",
   "execution_count": 1,
   "id": "7b9415d4",
   "metadata": {},
   "outputs": [],
   "source": [
    "%matplotlib inline\n",
    "\n",
    "import matplotlib.pyplot as plt\n",
    "import numpy as np\n",
    "import torch\n",
    "import torch.nn as nn\n",
    "from torch.utils.data import Dataset, DataLoader\n",
    "import torchvision.transforms as transforms\n",
    "from torchvision.datasets import ImageFolder\n",
    "from torchvision.datasets import DatasetFolder\n",
    "import torchvision\n",
    "from torchvision.models import vgg16\n",
    "from tqdm.notebook import tqdm as tqdm\n",
    "from torchsampler import ImbalancedDatasetSampler\n",
    "from sklearn.metrics import plot_confusion_matrix\n",
    "from sklearn.metrics import confusion_matrix\n",
    "from torch.utils.data.sampler import SubsetRandomSampler\n",
    "import torch.nn.functional as F\n",
    "import copy\n",
    "import os\n",
    "from sklearn.neighbors import NearestNeighbors\n",
    "from sklearn.cluster import KMeans\n",
    "from sklearn.preprocessing import normalize\n",
    "from scipy.spatial.distance import cosine as cosine_distance\n",
    "from sklearn.manifold import TSNE\n",
    "from sklearn.decomposition import PCA\n",
    "from sklearn.preprocessing import StandardScaler"
   ]
  },
  {
   "cell_type": "code",
   "execution_count": 20,
   "id": "afc099f9",
   "metadata": {},
   "outputs": [],
   "source": [
    "# hyperparameter\n",
    "batch_size = 1\n",
    "lr = 0.00005\n",
    "pca_dim = 2\n",
    "n_epoch = 10\n",
    "n_cluster = 8"
   ]
  },
  {
   "cell_type": "code",
   "execution_count": 3,
   "id": "11118da6",
   "metadata": {},
   "outputs": [
    {
     "name": "stdout",
     "output_type": "stream",
     "text": [
      "CUDA is available!\n"
     ]
    }
   ],
   "source": [
    "train_on_gpu = torch.cuda.is_available()\n",
    "if not train_on_gpu:\n",
    "    print('CUDA is not available.')\n",
    "else:\n",
    "    print('CUDA is available!')\n",
    "# device = \"cuda\" if train_on_gpu else \"cpu\"\n",
    "device = 'cpu'"
   ]
  },
  {
   "cell_type": "code",
   "execution_count": 21,
   "id": "052ca03a",
   "metadata": {},
   "outputs": [],
   "source": [
    "train_path = '/home/chisc/workspace/wuzhenrong/train'\n",
    "train_trans = transforms.Compose([\n",
    "                                  transforms.RandomHorizontalFlip(),\n",
    "                                  transforms.RandomRotation((-30, 30)),\n",
    "#                                   transforms.Resize((256, 256)),\n",
    "#                                   transforms.RandomCrop(size=(100, 100)),\n",
    "                                  transforms.Resize((252, 252)),\n",
    "#                                   transforms.CenterCrop(200),\n",
    "#                                   transforms.Resize((256, 256)),\n",
    "#                                   transforms.Resize((255, 255)),\n",
    "                                  transforms.GaussianBlur(7,3),\n",
    "#                                   transforms.ColorJitter(contrast=0.8),\n",
    "                                  transforms.ToTensor()])\n",
    "cat_data = ImageFolder(train_path, transform=train_trans)\n",
    "cat_loader = DataLoader(cat_data, pin_memory=True, batch_size=batch_size, shuffle=True)"
   ]
  },
  {
   "cell_type": "code",
   "execution_count": 5,
   "id": "f6bcfeaa",
   "metadata": {
    "scrolled": true
   },
   "outputs": [],
   "source": [
    "# images, labels = next(iter(train_loader))\n",
    "# print(labels)\n",
    "# for i in np.arange(3):\n",
    "#     print(labels[i])\n",
    "#     plt.figure(i)\n",
    "#     plt.title('EFIGI')\n",
    "#     plt.imshow(images[i].permute(1, 2, 0))\n",
    "#     plt.show()\n",
    "    \n",
    "# un_images, un_labels = next(iter(unsuper_loader))\n",
    "# print(un_labels)\n",
    "# for i in np.arange(3):\n",
    "#     print(un_labels[i])\n",
    "#     plt.figure(i)\n",
    "#     plt.title('GZ2')\n",
    "#     plt.imshow(un_images[i].permute(1, 2, 0))\n",
    "#     plt.show()"
   ]
  },
  {
   "cell_type": "code",
   "execution_count": 6,
   "id": "43d323c9",
   "metadata": {},
   "outputs": [],
   "source": [
    "class DeepAutoEncoder(nn.Module):\n",
    "    def __init__(self):\n",
    "        super(DeepAutoEncoder, self).__init__()\n",
    "        self.encoder = nn.Sequential(\n",
    "            nn.Conv2d(in_channels=3, out_channels=3, kernel_size=2, stride=1, padding=0, bias=False),\n",
    "            nn.BatchNorm2d(3),\n",
    "            nn.LeakyReLU(0.2, inplace=True),\n",
    "            nn.Conv2d(in_channels=3, out_channels=6, kernel_size=3, stride=2, padding=0, bias=False),\n",
    "            nn.BatchNorm2d(6),\n",
    "            nn.LeakyReLU(0.2, inplace=True),\n",
    "            nn.Conv2d(in_channels=6, out_channels=6, kernel_size=3, stride=2, padding=0, bias=False),\n",
    "            nn.BatchNorm2d(6),\n",
    "            nn.LeakyReLU(0.2, inplace=True),\n",
    "            nn.Conv2d(in_channels=6, out_channels=6, kernel_size=4, stride=2, padding=0, bias=False),\n",
    "            nn.BatchNorm2d(6),\n",
    "            nn.LeakyReLU(0.2, inplace=True),\n",
    "        )\n",
    "        self.decoder = nn.Sequential(\n",
    "            nn.ConvTranspose2d(in_channels=6, out_channels=6, kernel_size=4, stride=2, bias=False), # 1->4\n",
    "            nn.BatchNorm2d(6),\n",
    "            nn.ReLU(True),\n",
    "            nn.ConvTranspose2d(in_channels=6, out_channels=6, kernel_size=3, stride=2, bias=False), # 1->4\n",
    "            nn.BatchNorm2d(6),\n",
    "            nn.ReLU(True),\n",
    "            nn.ConvTranspose2d(in_channels=6, out_channels=3, kernel_size=3, stride=2, bias=False), # 4 -> 10\n",
    "            nn.BatchNorm2d(3),\n",
    "            nn.ReLU(True),\n",
    "            nn.ConvTranspose2d(in_channels=3, out_channels=3, kernel_size=2, stride=1, bias=False), # 10 -> 22\n",
    "            nn.BatchNorm2d(3),\n",
    "            # nn.Tanh()\n",
    "        )\n",
    "    def forward(self, x):\n",
    "        x = self.encoder(x)\n",
    "#         print(x.shape)\n",
    "        x = self.decoder(x)\n",
    "#         print(x.shape)\n",
    "        return x"
   ]
  },
  {
   "cell_type": "code",
   "execution_count": 7,
   "id": "1ece774d",
   "metadata": {},
   "outputs": [],
   "source": [
    "# AE = DeepAutoEncoder().to(device)\n",
    "# for i, (datas, labels) in enumerate(train_loader):\n",
    "#     datas = datas.to(device)\n",
    "#     x = AE(datas)\n",
    "#     print(x.shape)\n",
    "#     break"
   ]
  },
  {
   "cell_type": "code",
   "execution_count": 8,
   "id": "f7debc75",
   "metadata": {},
   "outputs": [],
   "source": [
    "model = DeepAutoEncoder().to(device)\n",
    "# model = model.to(device)\n",
    "optimizer = torch.optim.Adam(model.parameters(), lr = lr)\n",
    "loss_func = nn.L1Loss()"
   ]
  },
  {
   "cell_type": "code",
   "execution_count": 9,
   "id": "711d2a35",
   "metadata": {},
   "outputs": [
    {
     "data": {
      "application/vnd.jupyter.widget-view+json": {
       "model_id": "7f467e0e6b8945468621ab5b51213616",
       "version_major": 2,
       "version_minor": 0
      },
      "text/plain": [
       "  0%|          | 0/125 [00:00<?, ?it/s]"
      ]
     },
     "metadata": {},
     "output_type": "display_data"
    },
    {
     "name": "stdout",
     "output_type": "stream",
     "text": [
      "epoch:1/10, Loss = 0.5243472456932068\n"
     ]
    },
    {
     "data": {
      "application/vnd.jupyter.widget-view+json": {
       "model_id": "44162563cdc64a7c8ee3794591f2a58f",
       "version_major": 2,
       "version_minor": 0
      },
      "text/plain": [
       "  0%|          | 0/125 [00:00<?, ?it/s]"
      ]
     },
     "metadata": {},
     "output_type": "display_data"
    },
    {
     "name": "stdout",
     "output_type": "stream",
     "text": [
      "epoch:2/10, Loss = 0.46336671710014343\n"
     ]
    },
    {
     "data": {
      "application/vnd.jupyter.widget-view+json": {
       "model_id": "5467e631a23043c48c5ab6aae0a172a3",
       "version_major": 2,
       "version_minor": 0
      },
      "text/plain": [
       "  0%|          | 0/125 [00:00<?, ?it/s]"
      ]
     },
     "metadata": {},
     "output_type": "display_data"
    },
    {
     "name": "stdout",
     "output_type": "stream",
     "text": [
      "epoch:3/10, Loss = 0.4604191184043884\n"
     ]
    },
    {
     "data": {
      "application/vnd.jupyter.widget-view+json": {
       "model_id": "dfcd19619289487ebe854478ec844952",
       "version_major": 2,
       "version_minor": 0
      },
      "text/plain": [
       "  0%|          | 0/125 [00:00<?, ?it/s]"
      ]
     },
     "metadata": {},
     "output_type": "display_data"
    },
    {
     "name": "stdout",
     "output_type": "stream",
     "text": [
      "epoch:4/10, Loss = 0.4308914542198181\n"
     ]
    },
    {
     "data": {
      "application/vnd.jupyter.widget-view+json": {
       "model_id": "f3db79933a1a444f96c4405c02bea9c4",
       "version_major": 2,
       "version_minor": 0
      },
      "text/plain": [
       "  0%|          | 0/125 [00:00<?, ?it/s]"
      ]
     },
     "metadata": {},
     "output_type": "display_data"
    },
    {
     "name": "stdout",
     "output_type": "stream",
     "text": [
      "epoch:5/10, Loss = 0.4158201813697815\n"
     ]
    },
    {
     "data": {
      "application/vnd.jupyter.widget-view+json": {
       "model_id": "2d3a29d877a74078bf8fde19a01278fb",
       "version_major": 2,
       "version_minor": 0
      },
      "text/plain": [
       "  0%|          | 0/125 [00:00<?, ?it/s]"
      ]
     },
     "metadata": {},
     "output_type": "display_data"
    },
    {
     "name": "stdout",
     "output_type": "stream",
     "text": [
      "epoch:6/10, Loss = 0.3905785381793976\n"
     ]
    },
    {
     "data": {
      "application/vnd.jupyter.widget-view+json": {
       "model_id": "6451cb736aa541c49d126bb9360bd538",
       "version_major": 2,
       "version_minor": 0
      },
      "text/plain": [
       "  0%|          | 0/125 [00:00<?, ?it/s]"
      ]
     },
     "metadata": {},
     "output_type": "display_data"
    },
    {
     "name": "stdout",
     "output_type": "stream",
     "text": [
      "epoch:7/10, Loss = 0.38464802503585815\n"
     ]
    },
    {
     "data": {
      "application/vnd.jupyter.widget-view+json": {
       "model_id": "4a04148682774c328df9c0f42996b7e0",
       "version_major": 2,
       "version_minor": 0
      },
      "text/plain": [
       "  0%|          | 0/125 [00:00<?, ?it/s]"
      ]
     },
     "metadata": {},
     "output_type": "display_data"
    },
    {
     "name": "stdout",
     "output_type": "stream",
     "text": [
      "epoch:8/10, Loss = 0.39979177713394165\n"
     ]
    },
    {
     "data": {
      "application/vnd.jupyter.widget-view+json": {
       "model_id": "8c3541a22a894222b92132a4bc4d1dcd",
       "version_major": 2,
       "version_minor": 0
      },
      "text/plain": [
       "  0%|          | 0/125 [00:00<?, ?it/s]"
      ]
     },
     "metadata": {},
     "output_type": "display_data"
    },
    {
     "name": "stdout",
     "output_type": "stream",
     "text": [
      "epoch:9/10, Loss = 0.36162370443344116\n"
     ]
    },
    {
     "data": {
      "application/vnd.jupyter.widget-view+json": {
       "model_id": "4091ef889b894591b618d2cd31d68e0e",
       "version_major": 2,
       "version_minor": 0
      },
      "text/plain": [
       "  0%|          | 0/125 [00:00<?, ?it/s]"
      ]
     },
     "metadata": {},
     "output_type": "display_data"
    },
    {
     "name": "stdout",
     "output_type": "stream",
     "text": [
      "epoch:10/10, Loss = 0.37988290190696716\n"
     ]
    }
   ],
   "source": [
    "min_loss = 1000.\n",
    "for epoch in range(n_epoch):\n",
    "    for x, y in tqdm(cat_loader):\n",
    "#         print(x.shape)\n",
    "        x, y = x.to(device), y.to(device)\n",
    "#         inputs = x.view(3, 256 * 256)\n",
    "#         inputs = inputs.to(device)\n",
    "        outputs = model(x)\n",
    "#         print(outputs.shape)\n",
    "        optimizer.zero_grad()\n",
    "        loss = loss_func(outputs, x)\n",
    "        loss.backward()\n",
    "        optimizer.step()\n",
    "        if loss < min_loss:\n",
    "            min_loss = loss\n",
    "            torch.save(model,\"cat_test.pkl\")\n",
    "    print(f\"epoch:{epoch+1}/{n_epoch}, Loss = {loss.item()}\")\n",
    "# torch.save(model, \"test.pkl\")"
   ]
  },
  {
   "cell_type": "code",
   "execution_count": 22,
   "id": "d4066783",
   "metadata": {},
   "outputs": [
    {
     "data": {
      "application/vnd.jupyter.widget-view+json": {
       "model_id": "2b76fe44635641ba9e14f33ba679d611",
       "version_major": 2,
       "version_minor": 0
      },
      "text/plain": [
       "0it [00:00, ?it/s]"
      ]
     },
     "metadata": {},
     "output_type": "display_data"
    },
    {
     "name": "stdout",
     "output_type": "stream",
     "text": [
      "(4000, 5400) (4000,)\n"
     ]
    }
   ],
   "source": [
    "model = torch.load(\"cat_test.pkl\")\n",
    "for i, (datas, labels) in tqdm(enumerate(cat_loader)):\n",
    "    batch_size = 1\n",
    "    datas = datas.to(device)\n",
    "    x = model.encoder(datas)\n",
    "    x = x.cpu().detach().numpy().reshape(batch_size, -1)\n",
    "    if i == 0:\n",
    "        featureList = x \n",
    "        labelsList = labels\n",
    "    else:\n",
    "#         print(\"hello\")\n",
    "        featureList = np.append(featureList, x, axis=0)\n",
    "        labelsList = np.append(labelsList, labels, axis=0)\n",
    "    # if i == 3:\n",
    "    #     break\n",
    "print(featureList.shape, labelsList.shape)\n"
   ]
  },
  {
   "cell_type": "code",
   "execution_count": 23,
   "id": "b5ee2e5b",
   "metadata": {},
   "outputs": [
    {
     "name": "stdout",
     "output_type": "stream",
     "text": [
      "(4000, 2)\n"
     ]
    }
   ],
   "source": [
    "x_encode = TSNE(n_components=2).fit_transform(featureList)\n",
    "print(x_encode.shape)"
   ]
  },
  {
   "cell_type": "code",
   "execution_count": 25,
   "id": "b8826d6f",
   "metadata": {},
   "outputs": [
    {
     "data": {
      "image/png": "[encoded data removed]",
      "text/plain": [
       "<Figure size 1008x576 with 1 Axes>"
      ]
     },
     "metadata": {
      "needs_background": "light"
     },
     "output_type": "display_data"
    }
   ],
   "source": [
    "# cmap = plt.get_cmap('plasma',8)\n",
    "color = ['red', 'blue', 'black', 'orange', 'green', 'pink', 'purple', 'gray', 'brown', 'lightblue']\n",
    "v_x = x_encode\n",
    "v_y = labelsList\n",
    "\n",
    "fig = plt.figure(figsize=(14,8))\n",
    "ax = fig.add_subplot(1,1,1)\n",
    "classes = [0, 1]\n",
    "for key in classes:\n",
    "    ix = np.where(v_y==key)\n",
    "    ax.scatter(v_x[ix][:,0], v_x[ix][:,1], color=color[key], label=key)\n",
    "ax.legend()\n",
    "plt.show()"
   ]
  }
 ],
 "metadata": {
  "kernelspec": {
   "display_name": "Python 3 (ipykernel)",
   "language": "python",
   "name": "python3"
  },
  "language_info": {
   "codemirror_mode": {
    "name": "ipython",
    "version": 3
   },
   "file_extension": ".py",
   "mimetype": "text/x-python",
   "name": "python",
   "nbconvert_exporter": "python",
   "pygments_lexer": "ipython3",
   "version": "3.8.11"
  }
 },
 "nbformat": 4,
 "nbformat_minor": 5
}
