{
 "cells": [
  {
   "cell_type": "code",
   "execution_count": 1,
   "id": "74e7f86a",
   "metadata": {},
   "outputs": [
    {
     "name": "stdout",
     "output_type": "stream",
     "text": [
      "Mon Sep 13 23:39:36 2021       \r\n",
      "+-----------------------------------------------------------------------------+\r\n",
      "| NVIDIA-SMI 470.63.01    Driver Version: 470.63.01    CUDA Version: 11.4     |\r\n",
      "|-------------------------------+----------------------+----------------------+\r\n",
      "| GPU  Name        Persistence-M| Bus-Id        Disp.A | Volatile Uncorr. ECC |\r\n",
      "| Fan  Temp  Perf  Pwr:Usage/Cap|         Memory-Usage | GPU-Util  Compute M. |\r\n",
      "|                               |                      |               MIG M. |\r\n",
      "|===============================+======================+======================|\r\n",
      "|   0  NVIDIA GeForce ...  Off  | 00000000:01:00.0  On |                  N/A |\r\n",
      "|  0%   43C    P0    34W / 200W |    315MiB /  7973MiB |      0%      Default |\r\n",
      "|                               |                      |                  N/A |\r\n",
      "+-------------------------------+----------------------+----------------------+\r\n",
      "                                                                               \r\n",
      "+-----------------------------------------------------------------------------+\r\n",
      "| Processes:                                                                  |\r\n",
      "|  GPU   GI   CI        PID   Type   Process name                  GPU Memory |\r\n",
      "|        ID   ID                                                   Usage      |\r\n",
      "|=============================================================================|\r\n",
      "|    0   N/A  N/A      1159      G   /usr/lib/xorg/Xorg                 98MiB |\r\n",
      "|    0   N/A  N/A      1473      G   /usr/bin/gnome-shell               74MiB |\r\n",
      "|    0   N/A  N/A      1955      G   /usr/lib/firefox/firefox          133MiB |\r\n",
      "|    0   N/A  N/A      2186      G   /usr/lib/firefox/firefox            2MiB |\r\n",
      "|    0   N/A  N/A      5492      G   /usr/lib/firefox/firefox            2MiB |\r\n",
      "+-----------------------------------------------------------------------------+\r\n"
     ]
    }
   ],
   "source": [
    "!nvidia-smi"
   ]
  },
  {
   "cell_type": "code",
   "execution_count": 2,
   "id": "fa27dcc2",
   "metadata": {},
   "outputs": [],
   "source": [
    "%matplotlib inline\n",
    "\n",
    "import matplotlib.pyplot as plt\n",
    "import numpy as np\n",
    "import pandas as pd\n",
    "import torch\n",
    "import torch.nn as nn\n",
    "from torch.utils.data import Dataset, DataLoader\n",
    "import torchvision.transforms as transforms\n",
    "from torchvision.datasets import ImageFolder\n",
    "from PIL import Image\n",
    "from torch.utils.data.sampler import WeightedRandomSampler\n",
    "from torchvision.datasets import DatasetFolder\n",
    "import torchvision\n",
    "from tqdm.notebook import tqdm as tqdm\n",
    "from torchsampler import ImbalancedDatasetSampler\n",
    "from sklearn.metrics import plot_confusion_matrix\n",
    "from sklearn.metrics import confusion_matrix\n",
    "from torch.utils.data.sampler import SubsetRandomSampler\n",
    "from sklearn.manifold import TSNE\n",
    "# from jacobian import JacobianReg\n",
    "from sklearn.cluster import KMeans"
   ]
  },
  {
   "cell_type": "code",
   "execution_count": 3,
   "id": "96e5215b",
   "metadata": {},
   "outputs": [
    {
     "name": "stdout",
     "output_type": "stream",
     "text": [
      "CUDA is available!\n"
     ]
    }
   ],
   "source": [
    "train_on_gpu = torch.cuda.is_available()\n",
    "if not train_on_gpu:\n",
    "    print('CUDA is not available.')\n",
    "else:\n",
    "    print('CUDA is available!')\n",
    "device = \"cuda\" if train_on_gpu else \"cpu\""
   ]
  },
  {
   "cell_type": "code",
   "execution_count": 4,
   "id": "f8fd2b31",
   "metadata": {},
   "outputs": [],
   "source": [
    "train_image_path = \"/home/max/Desktop/galaxy_image/three_final/train/\"\n",
    "val_image_path = \"/home/max/Desktop/galaxy_image/three_final/validation/\"\n",
    "test_image_path = \"/home/max/Desktop/galaxy_image/three_final/test/\""
   ]
  },
  {
   "cell_type": "code",
   "execution_count": 5,
   "id": "57188772",
   "metadata": {},
   "outputs": [
    {
     "name": "stdout",
     "output_type": "stream",
     "text": [
      "Train: 2468\n",
      "Valid: 100\n",
      "Test: 100\n"
     ]
    }
   ],
   "source": [
    "batch_size = 70\n",
    "train_trans = transforms.Compose([\n",
    "#                                   transforms.RandomHorizontalFlip(),\n",
    "#                                   transforms.RandomRotation((-30, 30)),\n",
    "#                                   transforms.Resize((255, 255)),\n",
    "#                                   transforms.CenterCrop(210),\n",
    "                                  transforms.Resize((255, 255)),\n",
    "#                                   transforms.GaussianBlur(7,3),\n",
    "#                                   transforms.ColorJitter(brightness=0.5, contrast=0.5, saturation=0.5, hue=0.5),\n",
    "                                  transforms.ToTensor()])\n",
    "\n",
    "train_data = ImageFolder(train_image_path, transform = train_trans)\n",
    "train_loader = DataLoader(train_data, pin_memory = True, batch_size = batch_size, sampler=ImbalancedDatasetSampler(train_data))\n",
    "\n",
    "val_trans = transforms.Compose([transforms.Resize((255, 255)),transforms.ToTensor()])\n",
    "val_data = ImageFolder(val_image_path, transform = val_trans)\n",
    "val_loader = DataLoader(val_data, shuffle = True, batch_size=batch_size)\n",
    "\n",
    "test_trans = transforms.Compose([transforms.Resize((255, 255)),transforms.ToTensor()])\n",
    "test_data = ImageFolder(test_image_path, transform = test_trans)\n",
    "test_loader = DataLoader(test_data, shuffle = True, batch_size=batch_size)\n",
    "\n",
    "print('Train:', len(train_data))\n",
    "print('Valid:', len(val_data))\n",
    "print('Test:', len(test_data))"
   ]
  },
  {
   "cell_type": "code",
   "execution_count": 6,
   "id": "37c49db6",
   "metadata": {
    "scrolled": true
   },
   "outputs": [
    {
     "name": "stdout",
     "output_type": "stream",
     "text": [
      "tensor([[[0.0980, 0.0000, 0.0000,  ..., 0.2314, 0.0000, 0.0000],\n",
      "         [0.0235, 0.0392, 0.0000,  ..., 0.1294, 0.0000, 0.1765],\n",
      "         [0.0000, 0.0980, 0.0000,  ..., 0.1804, 0.1333, 0.0000],\n",
      "         ...,\n",
      "         [0.1333, 0.0000, 0.1843,  ..., 0.0000, 0.1961, 0.1451],\n",
      "         [0.0000, 0.0000, 0.0000,  ..., 0.0000, 0.0000, 0.0000],\n",
      "         [0.0000, 0.0000, 0.1569,  ..., 0.0000, 0.0000, 0.0000]],\n",
      "\n",
      "        [[0.1059, 0.1216, 0.0000,  ..., 0.0000, 0.0000, 0.1765],\n",
      "         [0.0745, 0.0000, 0.1765,  ..., 0.1333, 0.0745, 0.1137],\n",
      "         [0.0000, 0.0000, 0.1765,  ..., 0.0000, 0.0863, 0.2039],\n",
      "         ...,\n",
      "         [0.0000, 0.1922, 0.0000,  ..., 0.2863, 0.0000, 0.0000],\n",
      "         [0.1686, 0.1412, 0.0824,  ..., 0.0000, 0.1725, 0.1412],\n",
      "         [0.0000, 0.0000, 0.0235,  ..., 0.1333, 0.0000, 0.1216]],\n",
      "\n",
      "        [[0.0000, 0.1216, 0.2392,  ..., 0.0000, 0.0902, 0.0824],\n",
      "         [0.1255, 0.2431, 0.0000,  ..., 0.1686, 0.0667, 0.0000],\n",
      "         [0.3137, 0.2157, 0.0314,  ..., 0.0745, 0.0000, 0.0980],\n",
      "         ...,\n",
      "         [0.0000, 0.0000, 0.0000,  ..., 0.0000, 0.0000, 0.0000],\n",
      "         [0.0863, 0.1569, 0.0000,  ..., 0.0000, 0.0000, 0.0000],\n",
      "         [0.2157, 0.2118, 0.0000,  ..., 0.0000, 0.0000, 0.0863]]])\n",
      "tensor([[[0.1647, 0.1725, 0.1412,  ..., 0.1216, 0.0000, 0.1098],\n",
      "         [0.2039, 0.2510, 0.0863,  ..., 0.0000, 0.0000, 0.0000],\n",
      "         [0.0000, 0.0000, 0.0000,  ..., 0.2627, 0.2431, 0.0000],\n",
      "         ...,\n",
      "         [0.0000, 0.1333, 0.1373,  ..., 0.1647, 0.0000, 0.0000],\n",
      "         [0.0000, 0.0000, 0.1176,  ..., 0.0000, 0.0000, 0.0000],\n",
      "         [0.0000, 0.0000, 0.0000,  ..., 0.0000, 0.0000, 0.0000]],\n",
      "\n",
      "        [[0.0000, 0.0000, 0.0000,  ..., 0.1451, 0.0000, 0.0000],\n",
      "         [0.1608, 0.0000, 0.0000,  ..., 0.0000, 0.0000, 0.0000],\n",
      "         [0.0000, 0.0000, 0.0000,  ..., 0.0000, 0.0000, 0.0000],\n",
      "         ...,\n",
      "         [0.1529, 0.0000, 0.0000,  ..., 0.0000, 0.0000, 0.1255],\n",
      "         [0.1686, 0.0000, 0.1804,  ..., 0.0000, 0.0980, 0.1294],\n",
      "         [0.2392, 0.2157, 0.2275,  ..., 0.1098, 0.2275, 0.0000]],\n",
      "\n",
      "        [[0.2275, 0.2784, 0.2824,  ..., 0.0000, 0.0000, 0.0000],\n",
      "         [0.0000, 0.0000, 0.0000,  ..., 0.1608, 0.0000, 0.2118],\n",
      "         [0.0000, 0.0000, 0.2549,  ..., 0.1686, 0.0000, 0.0000],\n",
      "         ...,\n",
      "         [0.0000, 0.0000, 0.0000,  ..., 0.0000, 0.0000, 0.0000],\n",
      "         [0.1882, 0.0000, 0.0000,  ..., 0.0000, 0.0000, 0.0000],\n",
      "         [0.0000, 0.0000, 0.0275,  ..., 0.3098, 0.1451, 0.0000]]])\n",
      "tensor([[[0.2000, 0.0000, 0.1686,  ..., 0.0000, 0.0000, 0.0000],\n",
      "         [0.0000, 0.1725, 0.0000,  ..., 0.0000, 0.0000, 0.0000],\n",
      "         [0.0000, 0.0824, 0.1176,  ..., 0.1255, 0.0314, 0.0000],\n",
      "         ...,\n",
      "         [0.1490, 0.1608, 0.0000,  ..., 0.2314, 0.0745, 0.0000],\n",
      "         [0.0000, 0.1098, 0.2667,  ..., 0.0000, 0.0000, 0.0745],\n",
      "         [0.0863, 0.0000, 0.1843,  ..., 0.0000, 0.2431, 0.0000]],\n",
      "\n",
      "        [[0.0000, 0.1922, 0.0000,  ..., 0.0000, 0.1333, 0.0000],\n",
      "         [0.1843, 0.0000, 0.0000,  ..., 0.1412, 0.0000, 0.0000],\n",
      "         [0.0000, 0.0000, 0.1020,  ..., 0.0000, 0.0000, 0.0000],\n",
      "         ...,\n",
      "         [0.1725, 0.0000, 0.2392,  ..., 0.0000, 0.0000, 0.1176],\n",
      "         [0.0000, 0.0000, 0.0000,  ..., 0.0000, 0.0000, 0.0000],\n",
      "         [0.1843, 0.2039, 0.0941,  ..., 0.1529, 0.1647, 0.1137]],\n",
      "\n",
      "        [[0.1529, 0.0000, 0.0784,  ..., 0.2353, 0.0000, 0.1922],\n",
      "         [0.0000, 0.0431, 0.2118,  ..., 0.0000, 0.1843, 0.1412],\n",
      "         [0.1686, 0.0000, 0.0667,  ..., 0.1804, 0.0000, 0.0000],\n",
      "         ...,\n",
      "         [0.0000, 0.1255, 0.0000,  ..., 0.1020, 0.1961, 0.0000],\n",
      "         [0.2314, 0.2392, 0.0000,  ..., 0.0000, 0.2471, 0.0941],\n",
      "         [0.0000, 0.1412, 0.0000,  ..., 0.0000, 0.0000, 0.0824]]])\n"
     ]
    }
   ],
   "source": [
    "test_img, test_lab = next(iter(test_loader))\n",
    "\n",
    "for i in np.arange(3):\n",
    "    print(test_img[i])"
   ]
  },
  {
   "cell_type": "code",
   "execution_count": 7,
   "id": "215a62f0",
   "metadata": {},
   "outputs": [],
   "source": [
    "# 1. Input layer\n",
    "# 2. Convolutional layer\n",
    "# 3. ReLU layer\n",
    "# 4. Pooling layer\n",
    "# 5. Fully-connected layer\n",
    "class Galaxy(nn.Module):\n",
    "  def __init__(self):\n",
    "    super(Galaxy, self).__init__()\n",
    "    # input_shape = (3, 224, 224)\n",
    "    # torch.nn.Conv2d(in_channels, out_channels, kernel_size, stride=1, \n",
    "    #                 padding=0, dilation=1, groups=1, bias=True, padding_mode='zeros', device=None, dtype=None)\n",
    "    # in_channels: Input channels\n",
    "    # out_channels: Output channels\n",
    "    # kernel_size: Fillter size\n",
    "    # stride: Each step our Fillter move\n",
    "    # padding: We want our image can remain origin size\n",
    "    self.cnn = nn.Sequential(\n",
    "        ## CNN1\n",
    "        nn.Conv2d(in_channels = 3, out_channels = 64, kernel_size = 3, stride = 1, padding = 1), # padding = kernel_size / 2\n",
    "        nn.ReLU(),\n",
    "        nn.MaxPool2d(kernel_size = 2),## (64, 112, 112)\n",
    "        ## CNN2\n",
    "        nn.Conv2d(in_channels = 64, out_channels = 128, kernel_size = 3, stride = 1, padding = 1),\n",
    "        nn.ReLU(),\n",
    "        nn.MaxPool2d(kernel_size = 2),## (128, 56, 56)\n",
    "        ## CNN3\n",
    "        nn.Conv2d(in_channels = 128, out_channels = 256, kernel_size = 3, stride = 1, padding = 1),\n",
    "        nn.ReLU(),\n",
    "        nn.MaxPool2d(kernel_size = 2),## (256, 28, 28)\n",
    "        ## CNN4\n",
    "        nn.Conv2d(in_channels = 256, out_channels = 512, kernel_size = 3, stride = 1, padding = 1),\n",
    "        nn.ReLU(),\n",
    "        nn.MaxPool2d(kernel_size = 2),## (512, 14, 14)\n",
    "        ## CNN5\n",
    "        nn.Conv2d(in_channels = 512, out_channels = 512, kernel_size = 3, stride = 1, padding = 1),\n",
    "        nn.ReLU(),\n",
    "        nn.MaxPool2d(kernel_size = 2)## (512, 7, 7)\n",
    "        ## CNN6\n",
    "#         nn.Conv2d(in_channels = 512, out_channels = 1024, kernel_size = 3, stride = 1, padding = 1),\n",
    "#         nn.ReLU(),\n",
    "#         nn.MaxPool2d(kernel_size = 2)## (1024, 3, 3)\n",
    "    )\n",
    "    self.fc = nn.Sequential(\n",
    "        nn.Linear(512 * 7 * 7, 256), # Fully-connected layer\n",
    "        nn.Dropout(0.5), # Avoid overfitting\n",
    "        nn.ReLU(),\n",
    "        nn.Linear(256, 128),\n",
    "#         nn.Dropout(0.5),\n",
    "#         nn.ReLU(),\n",
    "# #         nn.Linear(512, 256),\n",
    "# #         nn.Dropout(0.5),\n",
    "# #         nn.ReLU(),\n",
    "#         nn.Linear(128, 3)\n",
    "    )\n",
    "    self.out = nn.Linear(128, 3)\n",
    "  # forward propagation\n",
    "  def forward(self, x):\n",
    "    x = self.cnn(x)\n",
    "    x = x.flatten(1)\n",
    "    x = self.fc(x)\n",
    "    output = self.out(x)\n",
    "    return output, x"
   ]
  },
  {
   "cell_type": "code",
   "execution_count": 8,
   "id": "cb1037f6",
   "metadata": {},
   "outputs": [],
   "source": [
    "model = torch.load('E_I_S_new.pkl')"
   ]
  },
  {
   "cell_type": "code",
   "execution_count": 9,
   "id": "1cb744b0",
   "metadata": {},
   "outputs": [],
   "source": [
    "def plot_low_dim(low, lab):\n",
    "    color = ['red', 'blue', 'yellow']\n",
    "    plt.cla()\n",
    "    for i in range(batch_size):\n",
    "        plt.scatter(low[0][i][0], low[0][i][1], color=color[lab[0][i]])"
   ]
  },
  {
   "cell_type": "code",
   "execution_count": 10,
   "id": "7d9c8f8c",
   "metadata": {},
   "outputs": [],
   "source": [
    "low = []\n",
    "label = []"
   ]
  },
  {
   "cell_type": "code",
   "execution_count": 11,
   "id": "713668f8",
   "metadata": {},
   "outputs": [
    {
     "name": "stderr",
     "output_type": "stream",
     "text": [
      "/home/max/.local/lib/python3.8/site-packages/torch/nn/functional.py:718: UserWarning: Named tensors and all their associated APIs are an experimental feature and subject to change. Please do not use them for anything important until they are released as stable. (Triggered internally at  /pytorch/c10/core/TensorImpl.h:1156.)\n",
      "  return torch.max_pool2d(input, kernel_size, stride, padding, dilation, ceil_mode)\n"
     ]
    },
    {
     "name": "stdout",
     "output_type": "stream",
     "text": [
      "test accuracy: 0.90\n"
     ]
    }
   ],
   "source": [
    "# for test_img, test_lab in tqdm(test_loader):\n",
    "test_img = test_img.to(device)\n",
    "out, last = model(test_img)\n",
    "out, last = out.cpu(), last.cpu()\n",
    "pred_y = torch.max(out, 1)[1].data.numpy()\n",
    "accuracy = float((pred_y == test_lab.data.numpy()).astype(int).sum()) / float(test_lab.size(0))\n",
    "print('test accuracy: %.2f' % accuracy)\n",
    "tsne = TSNE(perplexity=30, n_components=2, init='pca', n_iter=5000)\n",
    "low_dim = tsne.fit_transform(last.data.numpy())\n",
    "kmeans = KMeans(n_clusters=3, random_state=0).fit(low_dim)\n",
    "low.append(low_dim.tolist())\n",
    "lab = test_lab.numpy().tolist()\n",
    "label.append(lab)"
   ]
  },
  {
   "cell_type": "code",
   "execution_count": 12,
   "id": "12c62714",
   "metadata": {},
   "outputs": [
    {
     "data": {
      "image/png": "[encoded data removed]",
      "text/plain": [
       "<Figure size 432x288 with 1 Axes>"
      ]
     },
     "metadata": {
      "needs_background": "light"
     },
     "output_type": "display_data"
    }
   ],
   "source": [
    "plot_low_dim(low, label)"
   ]
  },
  {
   "cell_type": "code",
   "execution_count": 13,
   "id": "fa0cd58c",
   "metadata": {},
   "outputs": [
    {
     "name": "stdout",
     "output_type": "stream",
     "text": [
      "KMeans(n_clusters=3, random_state=0)\n"
     ]
    }
   ],
   "source": [
    "print(kmeans)"
   ]
  },
  {
   "cell_type": "code",
   "execution_count": 14,
   "id": "3a1e0869",
   "metadata": {},
   "outputs": [],
   "source": [
    "y_kmeans = kmeans.predict(low_dim)"
   ]
  },
  {
   "cell_type": "code",
   "execution_count": 15,
   "id": "32269e88",
   "metadata": {},
   "outputs": [
    {
     "data": {
      "image/png": "[encoded data removed]",
      "text/plain": [
       "<Figure size 432x288 with 1 Axes>"
      ]
     },
     "metadata": {
      "needs_background": "light"
     },
     "output_type": "display_data"
    }
   ],
   "source": [
    "plt.scatter(low_dim[:, 0], low_dim[:, 1], c=y_kmeans, s=50, cmap='viridis')\n",
    "\n",
    "centers = kmeans.cluster_centers_\n",
    "plt.scatter(centers[:, 0], centers[:, 1], c='black', s=200, alpha=0.5);"
   ]
  },
  {
   "cell_type": "code",
   "execution_count": 16,
   "id": "e9d373e5",
   "metadata": {},
   "outputs": [
    {
     "name": "stdout",
     "output_type": "stream",
     "text": [
      "[1 1 0 0 1 0 1 2 2 0 1 0 0 0 1 2 1 2 2 1 0 0 0 0 1 0 1 2 2 0 0 2 2 0 2 1 1\n",
      " 1 0 2 2 2 2 0 0 2 1 2 0 2 2 1 2 0 0 0 2 0 1 0 2 0 2 1 1 1 0 1 0 2]\n"
     ]
    }
   ],
   "source": [
    "print(y_kmeans)"
   ]
  },
  {
   "cell_type": "code",
   "execution_count": 17,
   "id": "94e12806",
   "metadata": {},
   "outputs": [
    {
     "name": "stdout",
     "output_type": "stream",
     "text": [
      "[1, 1, 0, 0, 1, 0, 1, 2, 2, 0, 1, 0, 1, 0, 1, 2, 1, 1, 2, 1, 0, 0, 0, 0, 1, 0, 1, 2, 2, 0, 0, 2, 2, 0, 2, 1, 1, 1, 0, 2, 2, 2, 2, 0, 0, 2, 1, 2, 0, 0, 2, 1, 2, 0, 0, 0, 1, 0, 1, 0, 2, 2, 2, 1, 1, 1, 0, 1, 0, 2]\n"
     ]
    }
   ],
   "source": [
    "print(label[0])"
   ]
  },
  {
   "cell_type": "code",
   "execution_count": 18,
   "id": "f1d8283d",
   "metadata": {},
   "outputs": [
    {
     "name": "stdout",
     "output_type": "stream",
     "text": [
      "k-means accuracy: 92.86%\n",
      "65\n"
     ]
    }
   ],
   "source": [
    "cnt = 0\n",
    "for i in range(70):\n",
    "    if y_kmeans[i] == label[0][i]:\n",
    "        cnt+=1\n",
    "print(f'k-means accuracy: {(cnt/70) * 100:.2f}%')\n",
    "print(cnt)"
   ]
  },
  {
   "cell_type": "code",
   "execution_count": null,
   "id": "b4e66c6b",
   "metadata": {},
   "outputs": [],
   "source": []
  }
 ],
 "metadata": {
  "kernelspec": {
   "display_name": "Python 3 (ipykernel)",
   "language": "python",
   "name": "python3"
  },
  "language_info": {
   "codemirror_mode": {
    "name": "ipython",
    "version": 3
   },
   "file_extension": ".py",
   "mimetype": "text/x-python",
   "name": "python",
   "nbconvert_exporter": "python",
   "pygments_lexer": "ipython3",
   "version": "3.8.10"
  }
 },
 "nbformat": 4,
 "nbformat_minor": 5
}
