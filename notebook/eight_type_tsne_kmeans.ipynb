{
 "cells": [
  {
   "cell_type": "code",
   "execution_count": 1,
   "id": "74e7f86a",
   "metadata": {},
   "outputs": [
    {
     "name": "stdout",
     "output_type": "stream",
     "text": [
      "Sat Oct 23 22:55:26 2021       \r\n",
      "+-----------------------------------------------------------------------------+\r\n",
      "| NVIDIA-SMI 440.33.01    Driver Version: 440.33.01    CUDA Version: 10.2     |\r\n",
      "|-------------------------------+----------------------+----------------------+\r\n",
      "| GPU  Name        Persistence-M| Bus-Id        Disp.A | Volatile Uncorr. ECC |\r\n",
      "| Fan  Temp  Perf  Pwr:Usage/Cap|         Memory-Usage | GPU-Util  Compute M. |\r\n",
      "|===============================+======================+======================|\r\n",
      "|   0  GeForce RTX 207...  On   | 00000000:01:00.0 Off |                  N/A |\r\n",
      "|  0%   43C    P8     8W / 215W |     18MiB /  7981MiB |      0%      Default |\r\n",
      "+-------------------------------+----------------------+----------------------+\r\n",
      "                                                                               \r\n",
      "+-----------------------------------------------------------------------------+\r\n",
      "| Processes:                                                       GPU Memory |\r\n",
      "|  GPU       PID   Type   Process name                             Usage      |\r\n",
      "|=============================================================================|\r\n",
      "|    0      1021      G   /usr/lib/xorg/Xorg                             9MiB |\r\n",
      "|    0      1153      G   /usr/bin/gnome-shell                           6MiB |\r\n",
      "+-----------------------------------------------------------------------------+\r\n"
     ]
    }
   ],
   "source": [
    "!nvidia-smi"
   ]
  },
  {
   "cell_type": "code",
   "execution_count": 2,
   "id": "fa27dcc2",
   "metadata": {},
   "outputs": [],
   "source": [
    "%matplotlib inline\n",
    "\n",
    "import matplotlib.pyplot as plt\n",
    "import numpy as np\n",
    "import pandas as pd\n",
    "import torch\n",
    "import torch.nn as nn\n",
    "from torch.utils.data import Dataset, DataLoader\n",
    "import torchvision.transforms as transforms\n",
    "from torchvision.datasets import ImageFolder\n",
    "from PIL import Image\n",
    "from torch.utils.data.sampler import WeightedRandomSampler\n",
    "from torchvision.datasets import DatasetFolder\n",
    "import torchvision\n",
    "from tqdm.notebook import tqdm as tqdm\n",
    "from torchsampler import ImbalancedDatasetSampler\n",
    "from sklearn.metrics import plot_confusion_matrix\n",
    "from sklearn.metrics import confusion_matrix\n",
    "from torch.utils.data.sampler import SubsetRandomSampler\n",
    "from sklearn.manifold import TSNE\n",
    "# from jacobian import JacobianReg\n",
    "from sklearn.cluster import KMeans"
   ]
  },
  {
   "cell_type": "code",
   "execution_count": 3,
   "id": "96e5215b",
   "metadata": {},
   "outputs": [
    {
     "name": "stdout",
     "output_type": "stream",
     "text": [
      "CUDA is available!\n"
     ]
    }
   ],
   "source": [
    "train_on_gpu = torch.cuda.is_available()\n",
    "if not train_on_gpu:\n",
    "    print('CUDA is not available.')\n",
    "else:\n",
    "    print('CUDA is available!')\n",
    "device = \"cuda\" if train_on_gpu else \"cpu\"\n",
    "device = 'cpu'"
   ]
  },
  {
   "cell_type": "code",
   "execution_count": 4,
   "id": "f8fd2b31",
   "metadata": {},
   "outputs": [],
   "source": [
    "train_image_path = \"/home/chisc/workspace/wuzhenrong/galaxy/eight_type/train/\"\n",
    "val_image_path = \"/home/chisc/workspace/wuzhenrong/galaxy/eight_type/validation\"\n",
    "test_image_path = \"/home/chisc/workspace/wuzhenrong/galaxy/eight_type/test/\""
   ]
  },
  {
   "cell_type": "code",
   "execution_count": 5,
   "id": "57188772",
   "metadata": {},
   "outputs": [
    {
     "name": "stdout",
     "output_type": "stream",
     "text": [
      "Train: 1923\n",
      "Valid: 145\n",
      "Test: 145\n"
     ]
    }
   ],
   "source": [
    "batch_size = 80\n",
    "train_trans = transforms.Compose([\n",
    "#                                   transforms.RandomHorizontalFlip(),\n",
    "#                                   transforms.RandomRotation((-30, 30)),\n",
    "#                                   transforms.Resize((255, 255)),\n",
    "#                                   transforms.CenterCrop(210),\n",
    "                                  transforms.Resize((256, 256)),\n",
    "#                                   transforms.GaussianBlur(7,3),\n",
    "#                                   transforms.ColorJitter(brightness=0.5, contrast=0.5, saturation=0.5, hue=0.5),\n",
    "                                  transforms.ToTensor()])\n",
    "\n",
    "train_data = ImageFolder(train_image_path, transform = train_trans)\n",
    "train_loader = DataLoader(train_data, pin_memory = True, batch_size = batch_size, sampler=ImbalancedDatasetSampler(train_data))\n",
    "\n",
    "val_trans = transforms.Compose([transforms.Resize((256, 256)),transforms.ToTensor()])\n",
    "val_data = ImageFolder(val_image_path, transform = val_trans)\n",
    "val_loader = DataLoader(val_data, shuffle = True, batch_size=batch_size)\n",
    "\n",
    "test_trans = transforms.Compose([transforms.Resize((256, 256)),transforms.ToTensor()])\n",
    "test_data = ImageFolder(test_image_path, transform = test_trans)\n",
    "test_loader = DataLoader(test_data, shuffle = True, batch_size=batch_size)\n",
    "\n",
    "print('Train:', len(train_data))\n",
    "print('Valid:', len(val_data))\n",
    "print('Test:', len(test_data))"
   ]
  },
  {
   "cell_type": "code",
   "execution_count": 6,
   "id": "37c49db6",
   "metadata": {
    "scrolled": true
   },
   "outputs": [
    {
     "name": "stdout",
     "output_type": "stream",
     "text": [
      "tensor([[[0.2706, 0.0000, 0.1608,  ..., 0.0000, 0.0000, 0.0000],\n",
      "         [0.0000, 0.1176, 0.0000,  ..., 0.0000, 0.0000, 0.0000],\n",
      "         [0.0000, 0.0000, 0.0000,  ..., 0.0000, 0.0667, 0.0000],\n",
      "         ...,\n",
      "         [0.0000, 0.1765, 0.0000,  ..., 0.0000, 0.0000, 0.0039],\n",
      "         [0.0000, 0.0000, 0.0000,  ..., 0.0000, 0.0000, 0.2078],\n",
      "         [0.0000, 0.0000, 0.0000,  ..., 0.0000, 0.0000, 0.0000]],\n",
      "\n",
      "        [[0.0000, 0.0980, 0.0000,  ..., 0.0000, 0.0000, 0.0549],\n",
      "         [0.0000, 0.0745, 0.1020,  ..., 0.0824, 0.1765, 0.0000],\n",
      "         [0.2196, 0.1529, 0.0000,  ..., 0.0000, 0.0000, 0.0000],\n",
      "         ...,\n",
      "         [0.1647, 0.0000, 0.1176,  ..., 0.0000, 0.0000, 0.0000],\n",
      "         [0.0941, 0.0824, 0.1294,  ..., 0.1294, 0.0000, 0.0000],\n",
      "         [0.0824, 0.1176, 0.1098,  ..., 0.0000, 0.1922, 0.0000]],\n",
      "\n",
      "        [[0.0000, 0.0000, 0.0000,  ..., 0.0000, 0.1843, 0.2235],\n",
      "         [0.2235, 0.1490, 0.0000,  ..., 0.1255, 0.0000, 0.1647],\n",
      "         [0.0039, 0.0000, 0.1412,  ..., 0.0000, 0.1373, 0.0000],\n",
      "         ...,\n",
      "         [0.1059, 0.0000, 0.0431,  ..., 0.1373, 0.0745, 0.0000],\n",
      "         [0.1529, 0.0000, 0.0000,  ..., 0.1451, 0.1529, 0.0000],\n",
      "         [0.0000, 0.0000, 0.0000,  ..., 0.2000, 0.0000, 0.1922]]])\n",
      "tensor([[[0.0000, 0.0000, 0.0000,  ..., 0.1255, 0.0000, 0.0000],\n",
      "         [0.0000, 0.1333, 0.0000,  ..., 0.0000, 0.1608, 0.0000],\n",
      "         [0.0784, 0.1725, 0.1412,  ..., 0.0000, 0.0000, 0.0000],\n",
      "         ...,\n",
      "         [0.0039, 0.1176, 0.0000,  ..., 0.1882, 0.2392, 0.1765],\n",
      "         [0.2392, 0.0000, 0.1647,  ..., 0.0000, 0.1725, 0.2157],\n",
      "         [0.1294, 0.0000, 0.2471,  ..., 0.0000, 0.0000, 0.0000]],\n",
      "\n",
      "        [[0.0000, 0.0000, 0.2000,  ..., 0.0000, 0.0000, 0.0000],\n",
      "         [0.0000, 0.0000, 0.0000,  ..., 0.0000, 0.0000, 0.0000],\n",
      "         [0.0000, 0.1098, 0.0000,  ..., 0.0000, 0.0824, 0.0000],\n",
      "         ...,\n",
      "         [0.1765, 0.1765, 0.0431,  ..., 0.0000, 0.0000, 0.0627],\n",
      "         [0.0000, 0.0000, 0.1216,  ..., 0.1529, 0.0510, 0.0000],\n",
      "         [0.0000, 0.0000, 0.0000,  ..., 0.1255, 0.1412, 0.0000]],\n",
      "\n",
      "        [[0.0902, 0.1843, 0.0000,  ..., 0.0667, 0.0000, 0.2039],\n",
      "         [0.0000, 0.1333, 0.0000,  ..., 0.0000, 0.1843, 0.0000],\n",
      "         [0.0000, 0.0000, 0.1961,  ..., 0.0000, 0.1686, 0.0000],\n",
      "         ...,\n",
      "         [0.2078, 0.1098, 0.0000,  ..., 0.0000, 0.0000, 0.0000],\n",
      "         [0.0353, 0.0000, 0.0000,  ..., 0.0000, 0.0000, 0.0000],\n",
      "         [0.0000, 0.0275, 0.0000,  ..., 0.0000, 0.0353, 0.1882]]])\n",
      "tensor([[[0.0000, 0.0000, 0.0000,  ..., 0.0000, 0.0000, 0.0000],\n",
      "         [0.0000, 0.1333, 0.0000,  ..., 0.0000, 0.0000, 0.1294],\n",
      "         [0.0000, 0.0000, 0.0000,  ..., 0.0000, 0.1608, 0.0000],\n",
      "         ...,\n",
      "         [0.0000, 0.0000, 0.0000,  ..., 0.0000, 0.0000, 0.0000],\n",
      "         [0.0745, 0.0000, 0.0000,  ..., 0.0000, 0.1216, 0.0000],\n",
      "         [0.0941, 0.1725, 0.1882,  ..., 0.0000, 0.1922, 0.0902]],\n",
      "\n",
      "        [[0.1137, 0.1451, 0.0000,  ..., 0.0000, 0.1098, 0.0000],\n",
      "         [0.0000, 0.0000, 0.1804,  ..., 0.0902, 0.0000, 0.0000],\n",
      "         [0.0000, 0.1804, 0.2275,  ..., 0.2039, 0.0000, 0.0000],\n",
      "         ...,\n",
      "         [0.1176, 0.0000, 0.0000,  ..., 0.2000, 0.1647, 0.1176],\n",
      "         [0.1412, 0.0000, 0.1294,  ..., 0.0000, 0.0000, 0.0000],\n",
      "         [0.1882, 0.0000, 0.0000,  ..., 0.0000, 0.0000, 0.1804]],\n",
      "\n",
      "        [[0.0000, 0.0000, 0.0000,  ..., 0.2549, 0.0000, 0.0000],\n",
      "         [0.0000, 0.0000, 0.0000,  ..., 0.2431, 0.1647, 0.0000],\n",
      "         [0.1255, 0.0000, 0.1765,  ..., 0.0039, 0.0000, 0.2627],\n",
      "         ...,\n",
      "         [0.0000, 0.0000, 0.0000,  ..., 0.0000, 0.0000, 0.1490],\n",
      "         [0.0000, 0.0000, 0.0000,  ..., 0.0863, 0.0000, 0.0000],\n",
      "         [0.0000, 0.0000, 0.0000,  ..., 0.0000, 0.0000, 0.0000]]])\n"
     ]
    }
   ],
   "source": [
    "test_img, test_lab = next(iter(test_loader))\n",
    "\n",
    "for i in np.arange(3):\n",
    "    print(test_img[i])"
   ]
  },
  {
   "cell_type": "code",
   "execution_count": 7,
   "id": "215a62f0",
   "metadata": {},
   "outputs": [],
   "source": [
    "# 1. Input layer\n",
    "# 2. Convolutional layer\n",
    "# 3. ReLU layer\n",
    "# 4. Pooling layer\n",
    "# 5. Fully-connected layer\n",
    "class Galaxy(nn.Module):\n",
    "  def __init__(self):\n",
    "    super(Galaxy, self).__init__()\n",
    "    # input_shape = (3, 224, 224)\n",
    "    # torch.nn.Conv2d(in_channels, out_channels, kernel_size, stride=1, \n",
    "    #                 padding=0, dilation=1, groups=1, bias=True, padding_mode='zeros', device=None, dtype=None)\n",
    "    # in_channels: Input channels\n",
    "    # out_channels: Output channels\n",
    "    # kernel_size: Fillter size\n",
    "    # stride: Each step our Fillter move\n",
    "    # padding: We want our image can remain origin size\n",
    "    self.cnn = nn.Sequential(\n",
    "        ## CNN1\n",
    "        nn.Conv2d(in_channels = 3, out_channels = 64, kernel_size = 3, stride = 1, padding = 1), # padding = kernel_size / 2\n",
    "        nn.ReLU(),\n",
    "        nn.MaxPool2d(kernel_size = 2),## (64, 112, 112)\n",
    "        ## CNN2\n",
    "        nn.Conv2d(in_channels = 64, out_channels = 128, kernel_size = 3, stride = 1, padding = 1),\n",
    "        nn.ReLU(),\n",
    "        nn.MaxPool2d(kernel_size = 2),## (128, 56, 56)\n",
    "        ## CNN3\n",
    "        nn.Conv2d(in_channels = 128, out_channels = 256, kernel_size = 3, stride = 1, padding = 1),\n",
    "        nn.ReLU(),\n",
    "        nn.MaxPool2d(kernel_size = 2),## (256, 28, 28)\n",
    "        ## CNN4\n",
    "        nn.Conv2d(in_channels = 256, out_channels = 512, kernel_size = 3, stride = 1, padding = 1),\n",
    "        nn.ReLU(),\n",
    "        nn.MaxPool2d(kernel_size = 2),## (512, 14, 14)\n",
    "        ## CNN5\n",
    "        nn.Conv2d(in_channels = 512, out_channels = 512, kernel_size = 3, stride = 1, padding = 1),\n",
    "        nn.ReLU(),\n",
    "        nn.MaxPool2d(kernel_size = 2)## (512, 7, 7)\n",
    "        ## CNN6\n",
    "#         nn.Conv2d(in_channels = 512, out_channels = 1024, kernel_size = 3, stride = 1, padding = 1),\n",
    "#         nn.ReLU(),\n",
    "#         nn.MaxPool2d(kernel_size = 2)## (1024, 3, 3)\n",
    "    )\n",
    "    self.fc = nn.Sequential(\n",
    "        nn.Linear(512 * 7 * 7, 256), # Fully-connected layer\n",
    "        nn.Dropout(0.5), # Avoid overfitting\n",
    "        nn.ReLU(),\n",
    "        nn.Linear(256, 128),\n",
    "#         nn.Dropout(0.5),\n",
    "#         nn.ReLU(),\n",
    "# #         nn.Linear(512, 256),\n",
    "# #         nn.Dropout(0.5),\n",
    "# #         nn.ReLU(),\n",
    "#         nn.Linear(128, 3)\n",
    "    )\n",
    "    self.out = nn.Linear(128, 3)\n",
    "  # forward propagation\n",
    "  def forward(self, x):\n",
    "    x = self.cnn(x)\n",
    "    x = x.flatten(1)\n",
    "    x = self.fc(x)\n",
    "    output = self.out(x)\n",
    "    return output, x"
   ]
  },
  {
   "cell_type": "code",
   "execution_count": 8,
   "id": "cb1037f6",
   "metadata": {},
   "outputs": [],
   "source": [
    "model = torch.load('eight.pkl',map_location='cpu')"
   ]
  },
  {
   "cell_type": "code",
   "execution_count": 9,
   "id": "1cb744b0",
   "metadata": {},
   "outputs": [],
   "source": [
    "def plot_low_dim(low, lab):\n",
    "    color = ['red', 'blue', 'black', 'orange', 'green', 'pink', 'purple', 'gray']\n",
    "    plt.cla()\n",
    "    for i in range(batch_size):\n",
    "        plt.scatter(low[0][i][0], low[0][i][1], color=color[lab[0][i]])"
   ]
  },
  {
   "cell_type": "code",
   "execution_count": 10,
   "id": "7d9c8f8c",
   "metadata": {},
   "outputs": [],
   "source": [
    "low = []\n",
    "label = []"
   ]
  },
  {
   "cell_type": "code",
   "execution_count": 11,
   "id": "713668f8",
   "metadata": {},
   "outputs": [
    {
     "name": "stderr",
     "output_type": "stream",
     "text": [
      "/home/chisc/.pyenv/versions/torch/lib/python3.8/site-packages/torch/nn/functional.py:718: UserWarning: Named tensors and all their associated APIs are an experimental feature and subject to change. Please do not use them for anything important until they are released as stable. (Triggered internally at  /pytorch/c10/core/TensorImpl.h:1156.)\n",
      "  return torch.max_pool2d(input, kernel_size, stride, padding, dilation, ceil_mode)\n"
     ]
    },
    {
     "name": "stdout",
     "output_type": "stream",
     "text": [
      "test accuracy: 0.28\n"
     ]
    }
   ],
   "source": [
    "# for test_img, test_lab in tqdm(test_loader):\n",
    "test_img = test_img.to(device)\n",
    "out, last = model(test_img)\n",
    "out, last = out.cpu(), last.cpu()\n",
    "pred_y = torch.max(out, 1)[1].data.numpy()\n",
    "accuracy = float((pred_y == test_lab.data.numpy()).astype(int).sum()) / float(test_lab.size(0))\n",
    "print('test accuracy: %.2f' % accuracy)\n",
    "tsne = TSNE(perplexity=30, n_components=2, init='pca', n_iter=8000)\n",
    "low_dim = tsne.fit_transform(last.data.numpy())\n",
    "kmeans = KMeans(n_clusters=8, random_state=0).fit(low_dim)\n",
    "low.append(low_dim.tolist())\n",
    "lab = test_lab.numpy().tolist()\n",
    "label.append(lab)"
   ]
  },
  {
   "cell_type": "code",
   "execution_count": 12,
   "id": "12c62714",
   "metadata": {},
   "outputs": [
    {
     "data": {
      "image/png": "[encoded data removed]",
      "text/plain": [
       "<Figure size 432x288 with 1 Axes>"
      ]
     },
     "metadata": {
      "needs_background": "light"
     },
     "output_type": "display_data"
    }
   ],
   "source": [
    "plot_low_dim(low, label)"
   ]
  },
  {
   "cell_type": "code",
   "execution_count": 13,
   "id": "fa0cd58c",
   "metadata": {},
   "outputs": [
    {
     "name": "stdout",
     "output_type": "stream",
     "text": [
      "KMeans(random_state=0)\n"
     ]
    }
   ],
   "source": [
    "print(kmeans)"
   ]
  },
  {
   "cell_type": "code",
   "execution_count": 14,
   "id": "3a1e0869",
   "metadata": {},
   "outputs": [],
   "source": [
    "y_kmeans = kmeans.predict(low_dim)"
   ]
  },
  {
   "cell_type": "code",
   "execution_count": 15,
   "id": "32269e88",
   "metadata": {},
   "outputs": [
    {
     "data": {
      "image/png": "[encoded data removed]",
      "text/plain": [
       "<Figure size 432x288 with 1 Axes>"
      ]
     },
     "metadata": {
      "needs_background": "light"
     },
     "output_type": "display_data"
    }
   ],
   "source": [
    "plt.scatter(low_dim[:, 0], low_dim[:, 1], c=y_kmeans, s=50, cmap='viridis')\n",
    "\n",
    "centers = kmeans.cluster_centers_\n",
    "plt.scatter(centers[:, 0], centers[:, 1], c='black', s=200, alpha=0.5);"
   ]
  },
  {
   "cell_type": "code",
   "execution_count": 16,
   "id": "e9d373e5",
   "metadata": {},
   "outputs": [
    {
     "name": "stdout",
     "output_type": "stream",
     "text": [
      "[5 5 1 2 5 5 3 3 3 6 7 4 6 5 2 1 3 4 0 5 0 1 3 0 7 3 6 1 0 3 2 3 4 4 2 5 1\n",
      " 6 7 0 5 2 6 6 2 1 4 2 1 1 0 2 0 5 6 7 4 4 2 3 0 3 6 5 5 3 1 1 1 5 2 4 6 2\n",
      " 2 6 4 4 5 1]\n"
     ]
    }
   ],
   "source": [
    "print(y_kmeans)"
   ]
  },
  {
   "cell_type": "code",
   "execution_count": 17,
   "id": "94e12806",
   "metadata": {},
   "outputs": [
    {
     "name": "stdout",
     "output_type": "stream",
     "text": [
      "[4, 7, 6, 0, 3, 7, 6, 3, 6, 0, 4, 0, 0, 7, 1, 5, 6, 6, 7, 7, 4, 6, 1, 7, 4, 4, 1, 6, 3, 4, 0, 3, 3, 6, 0, 4, 1, 0, 7, 3, 6, 1, 1, 0, 2, 5, 5, 5, 3, 5, 5, 2, 7, 7, 0, 7, 1, 5, 5, 6, 3, 7, 1, 5, 3, 2, 5, 3, 5, 6, 2, 6, 1, 2, 1, 5, 6, 2, 2, 6]\n"
     ]
    }
   ],
   "source": [
    "print(label[0])"
   ]
  },
  {
   "cell_type": "code",
   "execution_count": 18,
   "id": "f1d8283d",
   "metadata": {},
   "outputs": [
    {
     "name": "stdout",
     "output_type": "stream",
     "text": [
      "k-means accuracy: 11.43%\n",
      "8\n"
     ]
    }
   ],
   "source": [
    "cnt = 0\n",
    "for i in range(70):\n",
    "    if y_kmeans[i] == label[0][i]:\n",
    "        cnt+=1\n",
    "print(f'k-means accuracy: {(cnt/70) * 100:.2f}%')\n",
    "print(cnt)"
   ]
  },
  {
   "cell_type": "code",
   "execution_count": null,
   "id": "b4e66c6b",
   "metadata": {},
   "outputs": [],
   "source": []
  }
 ],
 "metadata": {
  "kernelspec": {
   "display_name": "Python 3 (ipykernel)",
   "language": "python",
   "name": "python3"
  },
  "language_info": {
   "codemirror_mode": {
    "name": "ipython",
    "version": 3
   },
   "file_extension": ".py",
   "mimetype": "text/x-python",
   "name": "python",
   "nbconvert_exporter": "python",
   "pygments_lexer": "ipython3",
   "version": "3.8.11"
  }
 },
 "nbformat": 4,
 "nbformat_minor": 5
}
